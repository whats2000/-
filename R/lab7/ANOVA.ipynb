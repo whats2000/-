{
 "cells": [
  {
   "attachments": {},
   "cell_type": "markdown",
   "metadata": {},
   "source": [
    "## Read the file"
   ]
  },
  {
   "cell_type": "code",
   "execution_count": 1,
   "metadata": {
    "vscode": {
     "languageId": "r"
    }
   },
   "outputs": [
    {
     "data": {
      "text/html": [
       "<table class=\"dataframe\">\n",
       "<caption>A data.frame: 1000 × 8</caption>\n",
       "<thead>\n",
       "\t<tr><th scope=col>gender</th><th scope=col>race.ethnicity</th><th scope=col>parental.level.of.education</th><th scope=col>lunch</th><th scope=col>test.preparation.course</th><th scope=col>math.score</th><th scope=col>reading.score</th><th scope=col>writing.score</th></tr>\n",
       "\t<tr><th scope=col>&lt;chr&gt;</th><th scope=col>&lt;chr&gt;</th><th scope=col>&lt;chr&gt;</th><th scope=col>&lt;chr&gt;</th><th scope=col>&lt;chr&gt;</th><th scope=col>&lt;int&gt;</th><th scope=col>&lt;int&gt;</th><th scope=col>&lt;int&gt;</th></tr>\n",
       "</thead>\n",
       "<tbody>\n",
       "\t<tr><td>female</td><td>group B</td><td>bachelor's degree </td><td>standard    </td><td>none     </td><td>72</td><td>72</td><td>74</td></tr>\n",
       "\t<tr><td>female</td><td>group C</td><td>some college      </td><td>standard    </td><td>completed</td><td>69</td><td>90</td><td>88</td></tr>\n",
       "\t<tr><td>female</td><td>group B</td><td>master's degree   </td><td>standard    </td><td>none     </td><td>90</td><td>95</td><td>93</td></tr>\n",
       "\t<tr><td>male  </td><td>group A</td><td>associate's degree</td><td>free/reduced</td><td>none     </td><td>47</td><td>57</td><td>44</td></tr>\n",
       "\t<tr><td>male  </td><td>group C</td><td>some college      </td><td>standard    </td><td>none     </td><td>76</td><td>78</td><td>75</td></tr>\n",
       "\t<tr><td>female</td><td>group B</td><td>associate's degree</td><td>standard    </td><td>none     </td><td>71</td><td>83</td><td>78</td></tr>\n",
       "\t<tr><td>female</td><td>group B</td><td>some college      </td><td>standard    </td><td>completed</td><td>88</td><td>95</td><td>92</td></tr>\n",
       "\t<tr><td>male  </td><td>group B</td><td>some college      </td><td>free/reduced</td><td>none     </td><td>40</td><td>43</td><td>39</td></tr>\n",
       "\t<tr><td>male  </td><td>group D</td><td>high school       </td><td>free/reduced</td><td>completed</td><td>64</td><td>64</td><td>67</td></tr>\n",
       "\t<tr><td>female</td><td>group B</td><td>high school       </td><td>free/reduced</td><td>none     </td><td>38</td><td>60</td><td>50</td></tr>\n",
       "\t<tr><td>male  </td><td>group C</td><td>associate's degree</td><td>standard    </td><td>none     </td><td>58</td><td>54</td><td>52</td></tr>\n",
       "\t<tr><td>male  </td><td>group D</td><td>associate's degree</td><td>standard    </td><td>none     </td><td>40</td><td>52</td><td>43</td></tr>\n",
       "\t<tr><td>female</td><td>group B</td><td>high school       </td><td>standard    </td><td>none     </td><td>65</td><td>81</td><td>73</td></tr>\n",
       "\t<tr><td>male  </td><td>group A</td><td>some college      </td><td>standard    </td><td>completed</td><td>78</td><td>72</td><td>70</td></tr>\n",
       "\t<tr><td>female</td><td>group A</td><td>master's degree   </td><td>standard    </td><td>none     </td><td>50</td><td>53</td><td>58</td></tr>\n",
       "\t<tr><td>female</td><td>group C</td><td>some high school  </td><td>standard    </td><td>none     </td><td>69</td><td>75</td><td>78</td></tr>\n",
       "\t<tr><td>male  </td><td>group C</td><td>high school       </td><td>standard    </td><td>none     </td><td>88</td><td>89</td><td>86</td></tr>\n",
       "\t<tr><td>female</td><td>group B</td><td>some high school  </td><td>free/reduced</td><td>none     </td><td>18</td><td>32</td><td>28</td></tr>\n",
       "\t<tr><td>male  </td><td>group C</td><td>master's degree   </td><td>free/reduced</td><td>completed</td><td>46</td><td>42</td><td>46</td></tr>\n",
       "\t<tr><td>female</td><td>group C</td><td>associate's degree</td><td>free/reduced</td><td>none     </td><td>54</td><td>58</td><td>61</td></tr>\n",
       "\t<tr><td>male  </td><td>group D</td><td>high school       </td><td>standard    </td><td>none     </td><td>66</td><td>69</td><td>63</td></tr>\n",
       "\t<tr><td>female</td><td>group B</td><td>some college      </td><td>free/reduced</td><td>completed</td><td>65</td><td>75</td><td>70</td></tr>\n",
       "\t<tr><td>male  </td><td>group D</td><td>some college      </td><td>standard    </td><td>none     </td><td>44</td><td>54</td><td>53</td></tr>\n",
       "\t<tr><td>female</td><td>group C</td><td>some high school  </td><td>standard    </td><td>none     </td><td>69</td><td>73</td><td>73</td></tr>\n",
       "\t<tr><td>male  </td><td>group D</td><td>bachelor's degree </td><td>free/reduced</td><td>completed</td><td>74</td><td>71</td><td>80</td></tr>\n",
       "\t<tr><td>male  </td><td>group A</td><td>master's degree   </td><td>free/reduced</td><td>none     </td><td>73</td><td>74</td><td>72</td></tr>\n",
       "\t<tr><td>male  </td><td>group B</td><td>some college      </td><td>standard    </td><td>none     </td><td>69</td><td>54</td><td>55</td></tr>\n",
       "\t<tr><td>female</td><td>group C</td><td>bachelor's degree </td><td>standard    </td><td>none     </td><td>67</td><td>69</td><td>75</td></tr>\n",
       "\t<tr><td>male  </td><td>group C</td><td>high school       </td><td>standard    </td><td>none     </td><td>70</td><td>70</td><td>65</td></tr>\n",
       "\t<tr><td>female</td><td>group D</td><td>master's degree   </td><td>standard    </td><td>none     </td><td>62</td><td>70</td><td>75</td></tr>\n",
       "\t<tr><td>⋮</td><td>⋮</td><td>⋮</td><td>⋮</td><td>⋮</td><td>⋮</td><td>⋮</td><td>⋮</td></tr>\n",
       "\t<tr><td>female</td><td>group D</td><td>bachelor's degree </td><td>standard    </td><td>none     </td><td>89</td><td>100</td><td>100</td></tr>\n",
       "\t<tr><td>male  </td><td>group C</td><td>some high school  </td><td>standard    </td><td>completed</td><td>78</td><td> 72</td><td> 69</td></tr>\n",
       "\t<tr><td>female</td><td>group A</td><td>high school       </td><td>free/reduced</td><td>completed</td><td>53</td><td> 50</td><td> 60</td></tr>\n",
       "\t<tr><td>female</td><td>group D</td><td>some college      </td><td>free/reduced</td><td>none     </td><td>49</td><td> 65</td><td> 61</td></tr>\n",
       "\t<tr><td>female</td><td>group A</td><td>some college      </td><td>standard    </td><td>none     </td><td>54</td><td> 63</td><td> 67</td></tr>\n",
       "\t<tr><td>female</td><td>group C</td><td>some college      </td><td>standard    </td><td>completed</td><td>64</td><td> 82</td><td> 77</td></tr>\n",
       "\t<tr><td>male  </td><td>group B</td><td>some college      </td><td>free/reduced</td><td>completed</td><td>60</td><td> 62</td><td> 60</td></tr>\n",
       "\t<tr><td>male  </td><td>group C</td><td>associate's degree</td><td>standard    </td><td>none     </td><td>62</td><td> 65</td><td> 58</td></tr>\n",
       "\t<tr><td>male  </td><td>group D</td><td>high school       </td><td>standard    </td><td>completed</td><td>55</td><td> 41</td><td> 48</td></tr>\n",
       "\t<tr><td>female</td><td>group C</td><td>associate's degree</td><td>standard    </td><td>none     </td><td>91</td><td> 95</td><td> 94</td></tr>\n",
       "\t<tr><td>female</td><td>group B</td><td>high school       </td><td>free/reduced</td><td>none     </td><td> 8</td><td> 24</td><td> 23</td></tr>\n",
       "\t<tr><td>male  </td><td>group D</td><td>some high school  </td><td>standard    </td><td>none     </td><td>81</td><td> 78</td><td> 78</td></tr>\n",
       "\t<tr><td>male  </td><td>group B</td><td>some high school  </td><td>standard    </td><td>completed</td><td>79</td><td> 85</td><td> 86</td></tr>\n",
       "\t<tr><td>female</td><td>group A</td><td>some college      </td><td>standard    </td><td>completed</td><td>78</td><td> 87</td><td> 91</td></tr>\n",
       "\t<tr><td>female</td><td>group C</td><td>some high school  </td><td>standard    </td><td>none     </td><td>74</td><td> 75</td><td> 82</td></tr>\n",
       "\t<tr><td>male  </td><td>group A</td><td>high school       </td><td>standard    </td><td>none     </td><td>57</td><td> 51</td><td> 54</td></tr>\n",
       "\t<tr><td>female</td><td>group C</td><td>associate's degree</td><td>standard    </td><td>none     </td><td>40</td><td> 59</td><td> 51</td></tr>\n",
       "\t<tr><td>male  </td><td>group E</td><td>some high school  </td><td>standard    </td><td>completed</td><td>81</td><td> 75</td><td> 76</td></tr>\n",
       "\t<tr><td>female</td><td>group A</td><td>some high school  </td><td>free/reduced</td><td>none     </td><td>44</td><td> 45</td><td> 45</td></tr>\n",
       "\t<tr><td>female</td><td>group D</td><td>some college      </td><td>free/reduced</td><td>completed</td><td>67</td><td> 86</td><td> 83</td></tr>\n",
       "\t<tr><td>male  </td><td>group E</td><td>high school       </td><td>free/reduced</td><td>completed</td><td>86</td><td> 81</td><td> 75</td></tr>\n",
       "\t<tr><td>female</td><td>group B</td><td>some high school  </td><td>standard    </td><td>completed</td><td>65</td><td> 82</td><td> 78</td></tr>\n",
       "\t<tr><td>female</td><td>group D</td><td>associate's degree</td><td>free/reduced</td><td>none     </td><td>55</td><td> 76</td><td> 76</td></tr>\n",
       "\t<tr><td>female</td><td>group D</td><td>bachelor's degree </td><td>free/reduced</td><td>none     </td><td>62</td><td> 72</td><td> 74</td></tr>\n",
       "\t<tr><td>male  </td><td>group A</td><td>high school       </td><td>standard    </td><td>none     </td><td>63</td><td> 63</td><td> 62</td></tr>\n",
       "\t<tr><td>female</td><td>group E</td><td>master's degree   </td><td>standard    </td><td>completed</td><td>88</td><td> 99</td><td> 95</td></tr>\n",
       "\t<tr><td>male  </td><td>group C</td><td>high school       </td><td>free/reduced</td><td>none     </td><td>62</td><td> 55</td><td> 55</td></tr>\n",
       "\t<tr><td>female</td><td>group C</td><td>high school       </td><td>free/reduced</td><td>completed</td><td>59</td><td> 71</td><td> 65</td></tr>\n",
       "\t<tr><td>female</td><td>group D</td><td>some college      </td><td>standard    </td><td>completed</td><td>68</td><td> 78</td><td> 77</td></tr>\n",
       "\t<tr><td>female</td><td>group D</td><td>some college      </td><td>free/reduced</td><td>none     </td><td>77</td><td> 86</td><td> 86</td></tr>\n",
       "</tbody>\n",
       "</table>\n"
      ],
      "text/latex": [
       "A data.frame: 1000 × 8\n",
       "\\begin{tabular}{llllllll}\n",
       " gender & race.ethnicity & parental.level.of.education & lunch & test.preparation.course & math.score & reading.score & writing.score\\\\\n",
       " <chr> & <chr> & <chr> & <chr> & <chr> & <int> & <int> & <int>\\\\\n",
       "\\hline\n",
       "\t female & group B & bachelor's degree  & standard     & none      & 72 & 72 & 74\\\\\n",
       "\t female & group C & some college       & standard     & completed & 69 & 90 & 88\\\\\n",
       "\t female & group B & master's degree    & standard     & none      & 90 & 95 & 93\\\\\n",
       "\t male   & group A & associate's degree & free/reduced & none      & 47 & 57 & 44\\\\\n",
       "\t male   & group C & some college       & standard     & none      & 76 & 78 & 75\\\\\n",
       "\t female & group B & associate's degree & standard     & none      & 71 & 83 & 78\\\\\n",
       "\t female & group B & some college       & standard     & completed & 88 & 95 & 92\\\\\n",
       "\t male   & group B & some college       & free/reduced & none      & 40 & 43 & 39\\\\\n",
       "\t male   & group D & high school        & free/reduced & completed & 64 & 64 & 67\\\\\n",
       "\t female & group B & high school        & free/reduced & none      & 38 & 60 & 50\\\\\n",
       "\t male   & group C & associate's degree & standard     & none      & 58 & 54 & 52\\\\\n",
       "\t male   & group D & associate's degree & standard     & none      & 40 & 52 & 43\\\\\n",
       "\t female & group B & high school        & standard     & none      & 65 & 81 & 73\\\\\n",
       "\t male   & group A & some college       & standard     & completed & 78 & 72 & 70\\\\\n",
       "\t female & group A & master's degree    & standard     & none      & 50 & 53 & 58\\\\\n",
       "\t female & group C & some high school   & standard     & none      & 69 & 75 & 78\\\\\n",
       "\t male   & group C & high school        & standard     & none      & 88 & 89 & 86\\\\\n",
       "\t female & group B & some high school   & free/reduced & none      & 18 & 32 & 28\\\\\n",
       "\t male   & group C & master's degree    & free/reduced & completed & 46 & 42 & 46\\\\\n",
       "\t female & group C & associate's degree & free/reduced & none      & 54 & 58 & 61\\\\\n",
       "\t male   & group D & high school        & standard     & none      & 66 & 69 & 63\\\\\n",
       "\t female & group B & some college       & free/reduced & completed & 65 & 75 & 70\\\\\n",
       "\t male   & group D & some college       & standard     & none      & 44 & 54 & 53\\\\\n",
       "\t female & group C & some high school   & standard     & none      & 69 & 73 & 73\\\\\n",
       "\t male   & group D & bachelor's degree  & free/reduced & completed & 74 & 71 & 80\\\\\n",
       "\t male   & group A & master's degree    & free/reduced & none      & 73 & 74 & 72\\\\\n",
       "\t male   & group B & some college       & standard     & none      & 69 & 54 & 55\\\\\n",
       "\t female & group C & bachelor's degree  & standard     & none      & 67 & 69 & 75\\\\\n",
       "\t male   & group C & high school        & standard     & none      & 70 & 70 & 65\\\\\n",
       "\t female & group D & master's degree    & standard     & none      & 62 & 70 & 75\\\\\n",
       "\t ⋮ & ⋮ & ⋮ & ⋮ & ⋮ & ⋮ & ⋮ & ⋮\\\\\n",
       "\t female & group D & bachelor's degree  & standard     & none      & 89 & 100 & 100\\\\\n",
       "\t male   & group C & some high school   & standard     & completed & 78 &  72 &  69\\\\\n",
       "\t female & group A & high school        & free/reduced & completed & 53 &  50 &  60\\\\\n",
       "\t female & group D & some college       & free/reduced & none      & 49 &  65 &  61\\\\\n",
       "\t female & group A & some college       & standard     & none      & 54 &  63 &  67\\\\\n",
       "\t female & group C & some college       & standard     & completed & 64 &  82 &  77\\\\\n",
       "\t male   & group B & some college       & free/reduced & completed & 60 &  62 &  60\\\\\n",
       "\t male   & group C & associate's degree & standard     & none      & 62 &  65 &  58\\\\\n",
       "\t male   & group D & high school        & standard     & completed & 55 &  41 &  48\\\\\n",
       "\t female & group C & associate's degree & standard     & none      & 91 &  95 &  94\\\\\n",
       "\t female & group B & high school        & free/reduced & none      &  8 &  24 &  23\\\\\n",
       "\t male   & group D & some high school   & standard     & none      & 81 &  78 &  78\\\\\n",
       "\t male   & group B & some high school   & standard     & completed & 79 &  85 &  86\\\\\n",
       "\t female & group A & some college       & standard     & completed & 78 &  87 &  91\\\\\n",
       "\t female & group C & some high school   & standard     & none      & 74 &  75 &  82\\\\\n",
       "\t male   & group A & high school        & standard     & none      & 57 &  51 &  54\\\\\n",
       "\t female & group C & associate's degree & standard     & none      & 40 &  59 &  51\\\\\n",
       "\t male   & group E & some high school   & standard     & completed & 81 &  75 &  76\\\\\n",
       "\t female & group A & some high school   & free/reduced & none      & 44 &  45 &  45\\\\\n",
       "\t female & group D & some college       & free/reduced & completed & 67 &  86 &  83\\\\\n",
       "\t male   & group E & high school        & free/reduced & completed & 86 &  81 &  75\\\\\n",
       "\t female & group B & some high school   & standard     & completed & 65 &  82 &  78\\\\\n",
       "\t female & group D & associate's degree & free/reduced & none      & 55 &  76 &  76\\\\\n",
       "\t female & group D & bachelor's degree  & free/reduced & none      & 62 &  72 &  74\\\\\n",
       "\t male   & group A & high school        & standard     & none      & 63 &  63 &  62\\\\\n",
       "\t female & group E & master's degree    & standard     & completed & 88 &  99 &  95\\\\\n",
       "\t male   & group C & high school        & free/reduced & none      & 62 &  55 &  55\\\\\n",
       "\t female & group C & high school        & free/reduced & completed & 59 &  71 &  65\\\\\n",
       "\t female & group D & some college       & standard     & completed & 68 &  78 &  77\\\\\n",
       "\t female & group D & some college       & free/reduced & none      & 77 &  86 &  86\\\\\n",
       "\\end{tabular}\n"
      ],
      "text/markdown": [
       "\n",
       "A data.frame: 1000 × 8\n",
       "\n",
       "| gender &lt;chr&gt; | race.ethnicity &lt;chr&gt; | parental.level.of.education &lt;chr&gt; | lunch &lt;chr&gt; | test.preparation.course &lt;chr&gt; | math.score &lt;int&gt; | reading.score &lt;int&gt; | writing.score &lt;int&gt; |\n",
       "|---|---|---|---|---|---|---|---|\n",
       "| female | group B | bachelor's degree  | standard     | none      | 72 | 72 | 74 |\n",
       "| female | group C | some college       | standard     | completed | 69 | 90 | 88 |\n",
       "| female | group B | master's degree    | standard     | none      | 90 | 95 | 93 |\n",
       "| male   | group A | associate's degree | free/reduced | none      | 47 | 57 | 44 |\n",
       "| male   | group C | some college       | standard     | none      | 76 | 78 | 75 |\n",
       "| female | group B | associate's degree | standard     | none      | 71 | 83 | 78 |\n",
       "| female | group B | some college       | standard     | completed | 88 | 95 | 92 |\n",
       "| male   | group B | some college       | free/reduced | none      | 40 | 43 | 39 |\n",
       "| male   | group D | high school        | free/reduced | completed | 64 | 64 | 67 |\n",
       "| female | group B | high school        | free/reduced | none      | 38 | 60 | 50 |\n",
       "| male   | group C | associate's degree | standard     | none      | 58 | 54 | 52 |\n",
       "| male   | group D | associate's degree | standard     | none      | 40 | 52 | 43 |\n",
       "| female | group B | high school        | standard     | none      | 65 | 81 | 73 |\n",
       "| male   | group A | some college       | standard     | completed | 78 | 72 | 70 |\n",
       "| female | group A | master's degree    | standard     | none      | 50 | 53 | 58 |\n",
       "| female | group C | some high school   | standard     | none      | 69 | 75 | 78 |\n",
       "| male   | group C | high school        | standard     | none      | 88 | 89 | 86 |\n",
       "| female | group B | some high school   | free/reduced | none      | 18 | 32 | 28 |\n",
       "| male   | group C | master's degree    | free/reduced | completed | 46 | 42 | 46 |\n",
       "| female | group C | associate's degree | free/reduced | none      | 54 | 58 | 61 |\n",
       "| male   | group D | high school        | standard     | none      | 66 | 69 | 63 |\n",
       "| female | group B | some college       | free/reduced | completed | 65 | 75 | 70 |\n",
       "| male   | group D | some college       | standard     | none      | 44 | 54 | 53 |\n",
       "| female | group C | some high school   | standard     | none      | 69 | 73 | 73 |\n",
       "| male   | group D | bachelor's degree  | free/reduced | completed | 74 | 71 | 80 |\n",
       "| male   | group A | master's degree    | free/reduced | none      | 73 | 74 | 72 |\n",
       "| male   | group B | some college       | standard     | none      | 69 | 54 | 55 |\n",
       "| female | group C | bachelor's degree  | standard     | none      | 67 | 69 | 75 |\n",
       "| male   | group C | high school        | standard     | none      | 70 | 70 | 65 |\n",
       "| female | group D | master's degree    | standard     | none      | 62 | 70 | 75 |\n",
       "| ⋮ | ⋮ | ⋮ | ⋮ | ⋮ | ⋮ | ⋮ | ⋮ |\n",
       "| female | group D | bachelor's degree  | standard     | none      | 89 | 100 | 100 |\n",
       "| male   | group C | some high school   | standard     | completed | 78 |  72 |  69 |\n",
       "| female | group A | high school        | free/reduced | completed | 53 |  50 |  60 |\n",
       "| female | group D | some college       | free/reduced | none      | 49 |  65 |  61 |\n",
       "| female | group A | some college       | standard     | none      | 54 |  63 |  67 |\n",
       "| female | group C | some college       | standard     | completed | 64 |  82 |  77 |\n",
       "| male   | group B | some college       | free/reduced | completed | 60 |  62 |  60 |\n",
       "| male   | group C | associate's degree | standard     | none      | 62 |  65 |  58 |\n",
       "| male   | group D | high school        | standard     | completed | 55 |  41 |  48 |\n",
       "| female | group C | associate's degree | standard     | none      | 91 |  95 |  94 |\n",
       "| female | group B | high school        | free/reduced | none      |  8 |  24 |  23 |\n",
       "| male   | group D | some high school   | standard     | none      | 81 |  78 |  78 |\n",
       "| male   | group B | some high school   | standard     | completed | 79 |  85 |  86 |\n",
       "| female | group A | some college       | standard     | completed | 78 |  87 |  91 |\n",
       "| female | group C | some high school   | standard     | none      | 74 |  75 |  82 |\n",
       "| male   | group A | high school        | standard     | none      | 57 |  51 |  54 |\n",
       "| female | group C | associate's degree | standard     | none      | 40 |  59 |  51 |\n",
       "| male   | group E | some high school   | standard     | completed | 81 |  75 |  76 |\n",
       "| female | group A | some high school   | free/reduced | none      | 44 |  45 |  45 |\n",
       "| female | group D | some college       | free/reduced | completed | 67 |  86 |  83 |\n",
       "| male   | group E | high school        | free/reduced | completed | 86 |  81 |  75 |\n",
       "| female | group B | some high school   | standard     | completed | 65 |  82 |  78 |\n",
       "| female | group D | associate's degree | free/reduced | none      | 55 |  76 |  76 |\n",
       "| female | group D | bachelor's degree  | free/reduced | none      | 62 |  72 |  74 |\n",
       "| male   | group A | high school        | standard     | none      | 63 |  63 |  62 |\n",
       "| female | group E | master's degree    | standard     | completed | 88 |  99 |  95 |\n",
       "| male   | group C | high school        | free/reduced | none      | 62 |  55 |  55 |\n",
       "| female | group C | high school        | free/reduced | completed | 59 |  71 |  65 |\n",
       "| female | group D | some college       | standard     | completed | 68 |  78 |  77 |\n",
       "| female | group D | some college       | free/reduced | none      | 77 |  86 |  86 |\n",
       "\n"
      ],
      "text/plain": [
       "     gender race.ethnicity parental.level.of.education lunch       \n",
       "1    female group B        bachelor's degree           standard    \n",
       "2    female group C        some college                standard    \n",
       "3    female group B        master's degree             standard    \n",
       "4    male   group A        associate's degree          free/reduced\n",
       "5    male   group C        some college                standard    \n",
       "6    female group B        associate's degree          standard    \n",
       "7    female group B        some college                standard    \n",
       "8    male   group B        some college                free/reduced\n",
       "9    male   group D        high school                 free/reduced\n",
       "10   female group B        high school                 free/reduced\n",
       "11   male   group C        associate's degree          standard    \n",
       "12   male   group D        associate's degree          standard    \n",
       "13   female group B        high school                 standard    \n",
       "14   male   group A        some college                standard    \n",
       "15   female group A        master's degree             standard    \n",
       "16   female group C        some high school            standard    \n",
       "17   male   group C        high school                 standard    \n",
       "18   female group B        some high school            free/reduced\n",
       "19   male   group C        master's degree             free/reduced\n",
       "20   female group C        associate's degree          free/reduced\n",
       "21   male   group D        high school                 standard    \n",
       "22   female group B        some college                free/reduced\n",
       "23   male   group D        some college                standard    \n",
       "24   female group C        some high school            standard    \n",
       "25   male   group D        bachelor's degree           free/reduced\n",
       "26   male   group A        master's degree             free/reduced\n",
       "27   male   group B        some college                standard    \n",
       "28   female group C        bachelor's degree           standard    \n",
       "29   male   group C        high school                 standard    \n",
       "30   female group D        master's degree             standard    \n",
       "⋮    ⋮      ⋮              ⋮                           ⋮           \n",
       "971  female group D        bachelor's degree           standard    \n",
       "972  male   group C        some high school            standard    \n",
       "973  female group A        high school                 free/reduced\n",
       "974  female group D        some college                free/reduced\n",
       "975  female group A        some college                standard    \n",
       "976  female group C        some college                standard    \n",
       "977  male   group B        some college                free/reduced\n",
       "978  male   group C        associate's degree          standard    \n",
       "979  male   group D        high school                 standard    \n",
       "980  female group C        associate's degree          standard    \n",
       "981  female group B        high school                 free/reduced\n",
       "982  male   group D        some high school            standard    \n",
       "983  male   group B        some high school            standard    \n",
       "984  female group A        some college                standard    \n",
       "985  female group C        some high school            standard    \n",
       "986  male   group A        high school                 standard    \n",
       "987  female group C        associate's degree          standard    \n",
       "988  male   group E        some high school            standard    \n",
       "989  female group A        some high school            free/reduced\n",
       "990  female group D        some college                free/reduced\n",
       "991  male   group E        high school                 free/reduced\n",
       "992  female group B        some high school            standard    \n",
       "993  female group D        associate's degree          free/reduced\n",
       "994  female group D        bachelor's degree           free/reduced\n",
       "995  male   group A        high school                 standard    \n",
       "996  female group E        master's degree             standard    \n",
       "997  male   group C        high school                 free/reduced\n",
       "998  female group C        high school                 free/reduced\n",
       "999  female group D        some college                standard    \n",
       "1000 female group D        some college                free/reduced\n",
       "     test.preparation.course math.score reading.score writing.score\n",
       "1    none                    72         72            74           \n",
       "2    completed               69         90            88           \n",
       "3    none                    90         95            93           \n",
       "4    none                    47         57            44           \n",
       "5    none                    76         78            75           \n",
       "6    none                    71         83            78           \n",
       "7    completed               88         95            92           \n",
       "8    none                    40         43            39           \n",
       "9    completed               64         64            67           \n",
       "10   none                    38         60            50           \n",
       "11   none                    58         54            52           \n",
       "12   none                    40         52            43           \n",
       "13   none                    65         81            73           \n",
       "14   completed               78         72            70           \n",
       "15   none                    50         53            58           \n",
       "16   none                    69         75            78           \n",
       "17   none                    88         89            86           \n",
       "18   none                    18         32            28           \n",
       "19   completed               46         42            46           \n",
       "20   none                    54         58            61           \n",
       "21   none                    66         69            63           \n",
       "22   completed               65         75            70           \n",
       "23   none                    44         54            53           \n",
       "24   none                    69         73            73           \n",
       "25   completed               74         71            80           \n",
       "26   none                    73         74            72           \n",
       "27   none                    69         54            55           \n",
       "28   none                    67         69            75           \n",
       "29   none                    70         70            65           \n",
       "30   none                    62         70            75           \n",
       "⋮    ⋮                       ⋮          ⋮             ⋮            \n",
       "971  none                    89         100           100          \n",
       "972  completed               78          72            69          \n",
       "973  completed               53          50            60          \n",
       "974  none                    49          65            61          \n",
       "975  none                    54          63            67          \n",
       "976  completed               64          82            77          \n",
       "977  completed               60          62            60          \n",
       "978  none                    62          65            58          \n",
       "979  completed               55          41            48          \n",
       "980  none                    91          95            94          \n",
       "981  none                     8          24            23          \n",
       "982  none                    81          78            78          \n",
       "983  completed               79          85            86          \n",
       "984  completed               78          87            91          \n",
       "985  none                    74          75            82          \n",
       "986  none                    57          51            54          \n",
       "987  none                    40          59            51          \n",
       "988  completed               81          75            76          \n",
       "989  none                    44          45            45          \n",
       "990  completed               67          86            83          \n",
       "991  completed               86          81            75          \n",
       "992  completed               65          82            78          \n",
       "993  none                    55          76            76          \n",
       "994  none                    62          72            74          \n",
       "995  none                    63          63            62          \n",
       "996  completed               88          99            95          \n",
       "997  none                    62          55            55          \n",
       "998  completed               59          71            65          \n",
       "999  completed               68          78            77          \n",
       "1000 none                    77          86            86          "
      ]
     },
     "metadata": {},
     "output_type": "display_data"
    }
   ],
   "source": [
    "stu_pf <- read.csv(\"C:/Users/eddie/OneDrive/文档/GitHub/coding-stuff-I-make-from-learning/R/lab7/StudentsPerformance.csv\")\n",
    "View(stu_pf)"
   ]
  },
  {
   "attachments": {},
   "cell_type": "markdown",
   "metadata": {},
   "source": [
    "## ISSUE：不同族群對於數學成績是否有差異\n",
    "\n",
    "### 畫出盒狀圖（x-各族群、y-數學成績）"
   ]
  },
  {
   "cell_type": "code",
   "execution_count": 2,
   "metadata": {
    "vscode": {
     "languageId": "r"
    }
   },
   "outputs": [],
   "source": [
    "library(ggplot2)"
   ]
  },
  {
   "cell_type": "code",
   "execution_count": 3,
   "metadata": {
    "vscode": {
     "languageId": "r"
    }
   },
   "outputs": [
    {
     "data": {
      "image/png": "[encoded data removed]",
      "text/plain": [
       "plot without title"
      ]
     },
     "metadata": {
      "image/png": {
       "height": 420,
       "width": 420
      }
     },
     "output_type": "display_data"
    }
   ],
   "source": [
    "ggplot(stu_pf, aes(x = race.ethnicity, y = math.score)) +\n",
    "    geom_boxplot()"
   ]
  },
  {
   "attachments": {},
   "cell_type": "markdown",
   "metadata": {},
   "source": [
    "### 跑ANOVA前須檢查是否有符合三個條件\n",
    "* (1) 常態性：樣本必須符合常態分配，也就是分配至少要長得差不多，奇形怪狀的分配是沒辦法比較的。\n",
    "* (2) 同質性：各組變異數必須相等或接近，也就是兩組常態分配曲線的高矮胖瘦要差不多，差太多代表長得不一樣，不一樣的東西怎麼能比較呢。\n",
    "* (3) 獨立性：樣本要有獨立性，也就是抽樣一定要隨機。\n",
    "\n",
    "\n",
    "#### (1) 常態性檢查\n",
    "* 使用shapiro.test：\n",
    "* 在 R 中若要進行常態性檢定，最常用的方式就是 Shapiro-Wilk 檢定\n",
    "* shapiro.test函數檢查資料是否為常態分布。\n",
    "* p-value > 0.05，不拒絕虛無假設，資料符合常態分布。\n",
    "* p-value < 0.05，拒絕虛無假設，資料不符合常態分布。"
   ]
  },
  {
   "cell_type": "code",
   "execution_count": 4,
   "metadata": {
    "vscode": {
     "languageId": "r"
    }
   },
   "outputs": [
    {
     "name": "stderr",
     "output_type": "stream",
     "text": [
      "Warning message:\n",
      "\"package 'dplyr' was built under R version 4.2.2\"\n",
      "\n",
      "Attaching package: 'dplyr'\n",
      "\n",
      "\n",
      "The following objects are masked from 'package:stats':\n",
      "\n",
      "    filter, lag\n",
      "\n",
      "\n",
      "The following objects are masked from 'package:base':\n",
      "\n",
      "    intersect, setdiff, setequal, union\n",
      "\n",
      "\n"
     ]
    }
   ],
   "source": [
    "library(dplyr)"
   ]
  },
  {
   "attachments": {},
   "cell_type": "markdown",
   "metadata": {},
   "source": [
    "### 看各族群的數學成績是否符合常態分佈"
   ]
  },
  {
   "cell_type": "code",
   "execution_count": 5,
   "metadata": {
    "vscode": {
     "languageId": "r"
    }
   },
   "outputs": [
    {
     "data": {
      "text/html": [
       "<table class=\"dataframe\">\n",
       "<caption>A tibble: 5 × 2</caption>\n",
       "<thead>\n",
       "\t<tr><th scope=col>race.ethnicity</th><th scope=col>p_value</th></tr>\n",
       "\t<tr><th scope=col>&lt;chr&gt;</th><th scope=col>&lt;dbl&gt;</th></tr>\n",
       "</thead>\n",
       "<tbody>\n",
       "\t<tr><td>group A</td><td>0.85453195</td></tr>\n",
       "\t<tr><td>group B</td><td>0.01038943</td></tr>\n",
       "\t<tr><td>group C</td><td>0.01741477</td></tr>\n",
       "\t<tr><td>group D</td><td>0.05926829</td></tr>\n",
       "\t<tr><td>group E</td><td>0.01849372</td></tr>\n",
       "</tbody>\n",
       "</table>\n"
      ],
      "text/latex": [
       "A tibble: 5 × 2\n",
       "\\begin{tabular}{ll}\n",
       " race.ethnicity & p\\_value\\\\\n",
       " <chr> & <dbl>\\\\\n",
       "\\hline\n",
       "\t group A & 0.85453195\\\\\n",
       "\t group B & 0.01038943\\\\\n",
       "\t group C & 0.01741477\\\\\n",
       "\t group D & 0.05926829\\\\\n",
       "\t group E & 0.01849372\\\\\n",
       "\\end{tabular}\n"
      ],
      "text/markdown": [
       "\n",
       "A tibble: 5 × 2\n",
       "\n",
       "| race.ethnicity &lt;chr&gt; | p_value &lt;dbl&gt; |\n",
       "|---|---|\n",
       "| group A | 0.85453195 |\n",
       "| group B | 0.01038943 |\n",
       "| group C | 0.01741477 |\n",
       "| group D | 0.05926829 |\n",
       "| group E | 0.01849372 |\n",
       "\n"
      ],
      "text/plain": [
       "  race.ethnicity p_value   \n",
       "1 group A        0.85453195\n",
       "2 group B        0.01038943\n",
       "3 group C        0.01741477\n",
       "4 group D        0.05926829\n",
       "5 group E        0.01849372"
      ]
     },
     "metadata": {},
     "output_type": "display_data"
    }
   ],
   "source": [
    "stu_pf %>%\n",
    "    group_by(race.ethnicity) %>%\n",
    "    summarize(p_value = shapiro.test(math.score)$p.value)"
   ]
  },
  {
   "attachments": {},
   "cell_type": "markdown",
   "metadata": {},
   "source": [
    "#### (2) 同質性檢查\n",
    "* 使用leveneTest：\n",
    "* 確認不同組別數值是否變異數相等。\n",
    "* p-value > 0.05，資料數值符合相同變異數。\n",
    "* p-value < 0.05，資料數值不符合相同變異數。"
   ]
  },
  {
   "cell_type": "code",
   "execution_count": 6,
   "metadata": {
    "vscode": {
     "languageId": "r"
    }
   },
   "outputs": [
    {
     "name": "stderr",
     "output_type": "stream",
     "text": [
      "Warning message:\n",
      "\"package 'car' was built under R version 4.2.2\"\n",
      "Loading required package: carData\n",
      "\n",
      "Warning message:\n",
      "\"package 'carData' was built under R version 4.2.2\"\n",
      "\n",
      "Attaching package: 'car'\n",
      "\n",
      "\n",
      "The following object is masked from 'package:dplyr':\n",
      "\n",
      "    recode\n",
      "\n",
      "\n"
     ]
    }
   ],
   "source": [
    "library(car)"
   ]
  },
  {
   "cell_type": "code",
   "execution_count": 7,
   "metadata": {
    "vscode": {
     "languageId": "r"
    }
   },
   "outputs": [
    {
     "name": "stderr",
     "output_type": "stream",
     "text": [
      "Warning message in leveneTest.default(y = y, group = group, ...):\n",
      "\"group coerced to factor.\"\n"
     ]
    },
    {
     "data": {
      "text/html": [
       "<table class=\"dataframe\">\n",
       "<caption>A anova: 2 × 3</caption>\n",
       "<thead>\n",
       "\t<tr><th></th><th scope=col>Df</th><th scope=col>F value</th><th scope=col>Pr(&gt;F)</th></tr>\n",
       "\t<tr><th></th><th scope=col>&lt;int&gt;</th><th scope=col>&lt;dbl&gt;</th><th scope=col>&lt;dbl&gt;</th></tr>\n",
       "</thead>\n",
       "<tbody>\n",
       "\t<tr><th scope=row>group</th><td>  4</td><td>0.5902872</td><td>0.6697371</td></tr>\n",
       "\t<tr><th scope=row> </th><td>995</td><td>       NA</td><td>       NA</td></tr>\n",
       "</tbody>\n",
       "</table>\n"
      ],
      "text/latex": [
       "A anova: 2 × 3\n",
       "\\begin{tabular}{r|lll}\n",
       "  & Df & F value & Pr(>F)\\\\\n",
       "  & <int> & <dbl> & <dbl>\\\\\n",
       "\\hline\n",
       "\tgroup &   4 & 0.5902872 & 0.6697371\\\\\n",
       "\t  & 995 &        NA &        NA\\\\\n",
       "\\end{tabular}\n"
      ],
      "text/markdown": [
       "\n",
       "A anova: 2 × 3\n",
       "\n",
       "| <!--/--> | Df &lt;int&gt; | F value &lt;dbl&gt; | Pr(&gt;F) &lt;dbl&gt; |\n",
       "|---|---|---|---|\n",
       "| group |   4 | 0.5902872 | 0.6697371 |\n",
       "| <!----> | 995 |        NA |        NA |\n",
       "\n"
      ],
      "text/plain": [
       "      Df  F value   Pr(>F)   \n",
       "group   4 0.5902872 0.6697371\n",
       "      995        NA        NA"
      ]
     },
     "metadata": {},
     "output_type": "display_data"
    }
   ],
   "source": [
    "leveneTest(math.score ~ race.ethnicity, stu_pf)"
   ]
  },
  {
   "attachments": {},
   "cell_type": "markdown",
   "metadata": {},
   "source": [
    "output P = 0.6697"
   ]
  },
  {
   "attachments": {},
   "cell_type": "markdown",
   "metadata": {},
   "source": [
    "## ANOVA\n",
    "### 不同族群對於數學成績是否有差異?\n",
    "* H0: A = B = C = D = E (math.score)。\n",
    "* HA: Otherwise\n",
    "\n",
    "#### ANOVA在R裡面有兩種寫法"
   ]
  },
  {
   "cell_type": "code",
   "execution_count": 8,
   "metadata": {
    "vscode": {
     "languageId": "r"
    }
   },
   "outputs": [
    {
     "data": {
      "text/plain": [
       "                Df Sum Sq Mean Sq F value   Pr(>F)    \n",
       "race.ethnicity   4  12729    3182   14.59 1.37e-11 ***\n",
       "Residuals      995 216960     218                     \n",
       "---\n",
       "Signif. codes:  0 '***' 0.001 '**' 0.01 '*' 0.05 '.' 0.1 ' ' 1"
      ]
     },
     "metadata": {},
     "output_type": "display_data"
    }
   ],
   "source": [
    "# 寫法一\n",
    "aov_race <- aov(math.score ~ race.ethnicity, data = stu_pf)\n",
    "summary(aov_race)"
   ]
  },
  {
   "cell_type": "code",
   "execution_count": 9,
   "metadata": {
    "vscode": {
     "languageId": "r"
    }
   },
   "outputs": [
    {
     "data": {
      "text/plain": [
       "\n",
       "\tOne-way analysis of means\n",
       "\n",
       "data:  math.score and race.ethnicity\n",
       "F = 14.594, num df = 4, denom df = 995, p-value = 1.373e-11\n"
      ]
     },
     "metadata": {},
     "output_type": "display_data"
    }
   ],
   "source": [
    "# 寫法二\n",
    "oneway.test(math.score ~ race.ethnicity, data = stu_pf, var.equal = TRUE)"
   ]
  },
  {
   "attachments": {},
   "cell_type": "markdown",
   "metadata": {},
   "source": [
    "p-value 具顯著性，拒絕H0，"
   ]
  },
  {
   "attachments": {},
   "cell_type": "markdown",
   "metadata": {},
   "source": [
    "## Follow-up analysis\n",
    "* Apply TukeyHSD() in R\n",
    "* TukeyHSD() document ->\n",
    "* https://www.rdocumentation.org/packages/stats/versions/3.6.2/topics/TukeyHSD\n",
    "\n",
    "* The intervals constructed in this way would only apply exactly to balanced designs where there are the same number of observations made at each level of the factor.\n",
    "\n",
    "* This function incorporates an adjustment for sample size that produces sensible intervals for mildly unbalanced designs.\n",
    "\n",
    "* 懶人包：treatment的sample size就算沒有一致，一樣能使用TukeyHSD()"
   ]
  },
  {
   "cell_type": "code",
   "execution_count": 10,
   "metadata": {
    "vscode": {
     "languageId": "r"
    }
   },
   "outputs": [
    {
     "data": {
      "text/plain": [
       "  Tukey multiple comparisons of means\n",
       "    95% family-wise confidence level\n",
       "\n",
       "Fit: aov(formula = math.score ~ race.ethnicity, data = stu_pf)\n",
       "\n",
       "$race.ethnicity\n",
       "                     diff         lwr       upr     p adj\n",
       "group B-group A  1.823418 -3.35997818  7.006814 0.8723586\n",
       "group C-group A  2.834736 -2.00279565  7.672268 0.4968040\n",
       "group D-group A  5.733382  0.78239222 10.684372 0.0138238\n",
       "group E-group A 12.192215  6.72151591 17.662914 0.0000000\n",
       "group C-group B  1.011318 -2.68671543  4.709352 0.9451894\n",
       "group D-group B  3.909964  0.06470228  7.755225 0.0440476\n",
       "group E-group B 10.368797  5.87410158 14.863492 0.0000000\n",
       "group D-group C  2.898646 -0.46589828  6.263189 0.1289617\n",
       "group E-group C  9.357479  5.26646348 13.448494 0.0000000\n",
       "group E-group D  6.458833  2.23426347 10.683403 0.0003084\n"
      ]
     },
     "metadata": {},
     "output_type": "display_data"
    }
   ],
   "source": [
    "result <- TukeyHSD(aov_race, conf.level = 0.95)\n",
    "result"
   ]
  },
  {
   "attachments": {},
   "cell_type": "markdown",
   "metadata": {},
   "source": [
    "### 使y軸的標題為橫向使用 las=1"
   ]
  },
  {
   "cell_type": "code",
   "execution_count": 11,
   "metadata": {
    "vscode": {
     "languageId": "r"
    }
   },
   "outputs": [
    {
     "data": {
      "image/png": "[encoded data removed]",
      "text/plain": [
       "Plot with title \"95% family-wise confidence level\n",
       "\""
      ]
     },
     "metadata": {
      "image/png": {
       "height": 420,
       "width": 420
      }
     },
     "output_type": "display_data"
    }
   ],
   "source": [
    "plot(result, las = 1, col = \"red\", cex.axis = 0.5)"
   ]
  }
 ],
 "metadata": {
  "kernelspec": {
   "display_name": "R",
   "language": "R",
   "name": "ir"
  },
  "language_info": {
   "codemirror_mode": "r",
   "file_extension": ".r",
   "mimetype": "text/x-r-source",
   "name": "R",
   "pygments_lexer": "r",
   "version": "4.2.1"
  },
  "orig_nbformat": 4
 },
 "nbformat": 4,
 "nbformat_minor": 2
}
